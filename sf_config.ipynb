{
 "cells": [
  {
   "cell_type": "code",
   "execution_count": 1,
   "metadata": {},
   "outputs": [],
   "source": [
    "#Importing Librarires for notebook\n",
    "\n",
    "#.. Snowflake Snowpark Session Library\n",
    "from snowflake.snowpark import Session\n",
    "\n"
   ]
  },
  {
   "cell_type": "code",
   "execution_count": 2,
   "metadata": {},
   "outputs": [],
   "source": [
    "# Constructing Dict for Connection Params\n",
    "\n",
    "conn_config = {\n",
    "    \"account\": \"vt67141.central-india.azure\",\n",
    "    \"user\": \"divyansh\",\n",
    "    \"password\": \"Divyansh@123\",\n",
    "    \"role\" : \"accountadmin\",\n",
    "    \"warehouse\" : \"compute_wh\",\n",
    "    \"database\" : \"snowflake_alert\",\n",
    "    \"schema\" : \"edw\"\n",
    "}"
   ]
  }
 ],
 "metadata": {
  "kernelspec": {
   "display_name": "py38_env",
   "language": "python",
   "name": "python3"
  },
  "language_info": {
   "codemirror_mode": {
    "name": "ipython",
    "version": 3
   },
   "file_extension": ".py",
   "mimetype": "text/x-python",
   "name": "python",
   "nbconvert_exporter": "python",
   "pygments_lexer": "ipython3",
   "version": "3.8.16"
  },
  "orig_nbformat": 4,
  "vscode": {
   "interpreter": {
    "hash": "53817ae72f503cc7d711329d6873b487e43691bdacb50236037b5d273bf0848f"
   }
  }
 },
 "nbformat": 4,
 "nbformat_minor": 2
}

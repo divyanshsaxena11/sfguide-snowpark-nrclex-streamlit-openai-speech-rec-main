{
 "cells": [
  {
   "attachments": {},
   "cell_type": "markdown",
   "metadata": {},
   "source": [
    "# Emotion Recognition of Audios in Snowflake using Snowpark Python, OpenAI and NRCLex\n",
    "\n",
    "_For comments and feedback, please reach out to [Divyansh](https://www.linkedin.com/in/divyanshsaxena/)_.\n"
   ]
  },
  {
   "cell_type": "code",
   "execution_count": 1,
   "metadata": {},
   "outputs": [],
   "source": [
    "# Snowpark\n",
    "from snowflake.snowpark.session import Session\n",
    "from snowflake.snowpark.functions import udf\n",
    "from snowflake.snowpark.version import VERSION\n",
    "\n",
    "# Misc\n",
    "import logging \n",
    "import config\n",
    "logger = logging.getLogger(\"snowflake.snowpark.session\")\n",
    "logger.setLevel(logging.ERROR)"
   ]
  },
  {
   "attachments": {},
   "cell_type": "markdown",
   "metadata": {},
   "source": [
    "### Establish Secure Connection to Snowflake\n",
    "\n",
    "Using the Snowpark API, it’s quick and easy to establish a secure connection between Snowflake and Notebook.\n",
    "\n",
    " *Connection options: Username/Password, MFA, OAuth, Okta, SSO*"
   ]
  },
  {
   "cell_type": "code",
   "execution_count": 2,
   "metadata": {},
   "outputs": [
    {
     "name": "stdout",
     "output_type": "stream",
     "text": [
      "User                        : DIVYANSH\n",
      "Role                        : SYSADMIN\n",
      "Database                    : OPEN_AI_DB\n",
      "Schema                      : EMOTION_RECOGNITION\n",
      "Warehouse                   : COMPUTE_WH\n",
      "Snowflake version           : 7.11.6\n",
      "Snowpark for Python version : 1.1.0\n"
     ]
    }
   ],
   "source": [
    "# Create Snowflake Session object\n",
    "session = Session.builder.configs(config.sf_conn_config).create()\n",
    "session.sql_simplifier_enabled = True\n",
    "\n",
    "snowflake_environment = session.sql('select current_user(), current_role(), current_database(), current_schema(), current_version(), current_warehouse()').collect()\n",
    "snowpark_version = VERSION\n",
    "\n",
    "# Current Environment Details\n",
    "print('User                        : {}'.format(snowflake_environment[0][0]))\n",
    "print('Role                        : {}'.format(snowflake_environment[0][1]))\n",
    "print('Database                    : {}'.format(snowflake_environment[0][2]))\n",
    "print('Schema                      : {}'.format(snowflake_environment[0][3]))\n",
    "print('Warehouse                   : {}'.format(snowflake_environment[0][5]))\n",
    "print('Snowflake version           : {}'.format(snowflake_environment[0][4]))\n",
    "print('Snowpark for Python version : {}.{}.{}'.format(snowpark_version[0],snowpark_version[1],snowpark_version[2]))"
   ]
  },
  {
   "attachments": {},
   "cell_type": "markdown",
   "metadata": {},
   "source": [
    "### Snowpark Python User-Defined Function (UDF) for Emotion Recognition of Audio Files\n",
    "\n",
    "Now to use custom python libraries which are not available on snowpark anaconda channel, we have to zip those libraries and need to upload those packages on snowflake.\n",
    "\n",
    "This can be done using the below commands:\n",
    "\n",
    "```\n",
    "pip install snowflake-cli-labs\n",
    "\n",
    "snow package create <package-name>\n",
    "```\n",
    "To know more on how to use custom packages on snowflake which are not available on Snowflake Anaconda Channel, refer to the [Medium Article by Jeff Hollan](https://medium.com/snowflake/using-other-python-packages-in-snowpark-a6fd75e4b23a)\n",
    "\n",
    "*NOTE: Scalar UDFs operate on a single row / set of data points and are great for online inference in real-time. And this UDF is called from [Snowpark_NRCLex_Streamlit_OpenAI_Audio_rec.py](Snowpark_NRCLex_Streamlit_OpenAI_Audio_rec.py) Streamlit apps.*\n",
    "\n",
    "TIP: For more information on Snowpark Python User-Defined Functions, refer to the [docs](https://docs.snowflake.com/en/developer-guide/snowpark/python/creating-udfs.html)."
   ]
  },
  {
   "cell_type": "code",
   "execution_count": 3,
   "metadata": {},
   "outputs": [
    {
     "data": {
      "text/plain": [
       "[PutResult(source='NRCLex.zip', target='NRCLex.zip', source_size=56518948, target_size=56518960, source_compression='NONE', target_compression='NONE', status='UPLOADED', message='')]"
      ]
     },
     "execution_count": 3,
     "metadata": {},
     "output_type": "execute_result"
    }
   ],
   "source": [
    "#Uploading the Custom Python Packages on the Snowflake\n",
    "session.file.put('NRCLex.zip','@packages',overwrite=True,auto_compress=False)"
   ]
  },
  {
   "cell_type": "code",
   "execution_count": 4,
   "metadata": {},
   "outputs": [],
   "source": [
    "session.clear_packages()\n",
    "session.clear_imports()\n",
    "\n",
    "# Add Python packages from Snowflke Anaconda channel OR Custom Packages\n",
    "session.add_import('@packages/NRCLex.zip')\n",
    "session.add_packages('click', 'colorama', 'joblib', 'nltk', 'regex', 'tqdm')"
   ]
  },
  {
   "cell_type": "code",
   "execution_count": 5,
   "metadata": {},
   "outputs": [],
   "source": [
    "\n",
    "@udf(name='sp_emotion_recognition',session=session,replace=True,is_permanent=True,stage_location='@raw_data_set/procedures/')\n",
    "def sp_emotion_recognition(text_data: str) -> str:\n",
    "  import nltk\n",
    "  nltk.download('punkt')\n",
    "  from nrclex import NRCLex\n",
    "  emotion = NRCLex(text_data)\n",
    "  return f\"{emotion.top_emotions}\""
   ]
  }
 ],
 "metadata": {
  "kernelspec": {
   "display_name": "py38_env",
   "language": "python",
   "name": "python3"
  },
  "language_info": {
   "codemirror_mode": {
    "name": "ipython",
    "version": 3
   },
   "file_extension": ".py",
   "mimetype": "text/x-python",
   "name": "python",
   "nbconvert_exporter": "python",
   "pygments_lexer": "ipython3",
   "version": "3.8.16"
  },
  "orig_nbformat": 4
 },
 "nbformat": 4,
 "nbformat_minor": 2
}
